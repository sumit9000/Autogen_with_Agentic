{
 "cells": [
  {
   "cell_type": "markdown",
   "id": "1ca5966e-0e5c-4e46-9a84-6828e9795985",
   "metadata": {},
   "source": [
    "# Problem Statement : Build Agent\n",
    "1. You are the Chief Marketing Officer of an Ed.Tech Company (EXCELR) that sells Project Management Cources\n",
    "2. Create an agent which will help in creating strategies for promotion Of your project management."
   ]
  },
  {
   "cell_type": "code",
   "execution_count": 2,
   "id": "bd269154-26dd-4182-9c03-2c6324126cde",
   "metadata": {},
   "outputs": [
    {
     "name": "stdout",
     "output_type": "stream",
     "text": [
      "Collecting autogen\n",
      "  Downloading autogen-0.9.1.post0-py3-none-any.whl.metadata (24 kB)\n",
      "Requirement already satisfied: ag2==0.9.1post0 in c:\\users\\kiit\\anaconda3\\lib\\site-packages (from autogen) (0.9.1.post0)\n",
      "Requirement already satisfied: anyio<5.0.0,>=3.0.0 in c:\\users\\kiit\\anaconda3\\lib\\site-packages (from ag2==0.9.1post0->autogen) (4.2.0)\n",
      "Requirement already satisfied: asyncer==0.0.8 in c:\\users\\kiit\\anaconda3\\lib\\site-packages (from ag2==0.9.1post0->autogen) (0.0.8)\n",
      "Requirement already satisfied: diskcache in c:\\users\\kiit\\anaconda3\\lib\\site-packages (from ag2==0.9.1post0->autogen) (5.6.3)\n",
      "Requirement already satisfied: docker in c:\\users\\kiit\\anaconda3\\lib\\site-packages (from ag2==0.9.1post0->autogen) (7.1.0)\n",
      "Requirement already satisfied: httpx<1,>=0.28.1 in c:\\users\\kiit\\anaconda3\\lib\\site-packages (from ag2==0.9.1post0->autogen) (0.28.1)\n",
      "Requirement already satisfied: packaging in c:\\users\\kiit\\anaconda3\\lib\\site-packages (from ag2==0.9.1post0->autogen) (23.2)\n",
      "Requirement already satisfied: pydantic<3,>=2.6.1 in c:\\users\\kiit\\anaconda3\\lib\\site-packages (from ag2==0.9.1post0->autogen) (2.8.2)\n",
      "Requirement already satisfied: python-dotenv in c:\\users\\kiit\\anaconda3\\lib\\site-packages (from ag2==0.9.1post0->autogen) (0.21.0)\n",
      "Requirement already satisfied: termcolor in c:\\users\\kiit\\anaconda3\\lib\\site-packages (from ag2==0.9.1post0->autogen) (3.1.0)\n",
      "Requirement already satisfied: tiktoken in c:\\users\\kiit\\anaconda3\\lib\\site-packages (from ag2==0.9.1post0->autogen) (0.9.0)\n",
      "Requirement already satisfied: idna>=2.8 in c:\\users\\kiit\\anaconda3\\lib\\site-packages (from anyio<5.0.0,>=3.0.0->ag2==0.9.1post0->autogen) (3.7)\n",
      "Requirement already satisfied: sniffio>=1.1 in c:\\users\\kiit\\anaconda3\\lib\\site-packages (from anyio<5.0.0,>=3.0.0->ag2==0.9.1post0->autogen) (1.3.0)\n",
      "Requirement already satisfied: certifi in c:\\users\\kiit\\anaconda3\\lib\\site-packages (from httpx<1,>=0.28.1->ag2==0.9.1post0->autogen) (2025.1.31)\n",
      "Requirement already satisfied: httpcore==1.* in c:\\users\\kiit\\anaconda3\\lib\\site-packages (from httpx<1,>=0.28.1->ag2==0.9.1post0->autogen) (1.0.2)\n",
      "Requirement already satisfied: h11<0.15,>=0.13 in c:\\users\\kiit\\anaconda3\\lib\\site-packages (from httpcore==1.*->httpx<1,>=0.28.1->ag2==0.9.1post0->autogen) (0.14.0)\n",
      "Requirement already satisfied: annotated-types>=0.4.0 in c:\\users\\kiit\\anaconda3\\lib\\site-packages (from pydantic<3,>=2.6.1->ag2==0.9.1post0->autogen) (0.6.0)\n",
      "Requirement already satisfied: pydantic-core==2.20.1 in c:\\users\\kiit\\anaconda3\\lib\\site-packages (from pydantic<3,>=2.6.1->ag2==0.9.1post0->autogen) (2.20.1)\n",
      "Requirement already satisfied: typing-extensions>=4.6.1 in c:\\users\\kiit\\anaconda3\\lib\\site-packages (from pydantic<3,>=2.6.1->ag2==0.9.1post0->autogen) (4.11.0)\n",
      "Requirement already satisfied: pywin32>=304 in c:\\users\\kiit\\anaconda3\\lib\\site-packages (from docker->ag2==0.9.1post0->autogen) (305.1)\n",
      "Requirement already satisfied: requests>=2.26.0 in c:\\users\\kiit\\anaconda3\\lib\\site-packages (from docker->ag2==0.9.1post0->autogen) (2.32.3)\n",
      "Requirement already satisfied: urllib3>=1.26.0 in c:\\users\\kiit\\anaconda3\\lib\\site-packages (from docker->ag2==0.9.1post0->autogen) (2.2.3)\n",
      "Requirement already satisfied: regex>=2022.1.18 in c:\\users\\kiit\\anaconda3\\lib\\site-packages (from tiktoken->ag2==0.9.1post0->autogen) (2024.9.11)\n",
      "Requirement already satisfied: charset-normalizer<4,>=2 in c:\\users\\kiit\\anaconda3\\lib\\site-packages (from requests>=2.26.0->docker->ag2==0.9.1post0->autogen) (3.3.2)\n",
      "Downloading autogen-0.9.1.post0-py3-none-any.whl (13 kB)\n",
      "Installing collected packages: autogen\n",
      "Successfully installed autogen-0.9.1.post0\n"
     ]
    }
   ],
   "source": [
    "!pip install autogen"
   ]
  },
  {
   "cell_type": "code",
   "execution_count": 6,
   "id": "c5afef43-2783-4e20-a5e2-4fb77fb23e2f",
   "metadata": {},
   "outputs": [],
   "source": [
    "import warnings\n",
    "warnings.filterwarnings('ignore')\n",
    "import autogen\n",
    "from autogen import ConversableAgent\n",
    "from IPython.display import display,Markdown"
   ]
  },
  {
   "cell_type": "code",
   "execution_count": 8,
   "id": "14a274f0-f2e9-4955-9b8b-c2a9588c6e47",
   "metadata": {},
   "outputs": [
    {
     "name": "stdin",
     "output_type": "stream",
     "text": [
      "enter your api key here:  ········\n"
     ]
    }
   ],
   "source": [
    "from getpass import getpass\n",
    "OPENAI_API_KEY=getpass(\"enter your api key here: \")"
   ]
  },
  {
   "cell_type": "code",
   "execution_count": 12,
   "id": "913d40d4-34ef-46b6-a45a-4276949b2cdf",
   "metadata": {},
   "outputs": [],
   "source": [
    "import os\n",
    "os.environ['OPENAI_API_KEY']=OPENAI_API_KEY"
   ]
  },
  {
   "cell_type": "code",
   "execution_count": 14,
   "id": "f852a9ce-85a0-48a9-9c8e-8d4220385932",
   "metadata": {},
   "outputs": [],
   "source": [
    "config_list_gpt={\"config_list\": [{\"model\":\"gpt-4o-mini\"}],\n",
    "                \"temperature\":0.9}"
   ]
  },
  {
   "cell_type": "code",
   "execution_count": 16,
   "id": "27218205-4891-49dd-9c3b-9494b8151314",
   "metadata": {},
   "outputs": [],
   "source": [
    "agent_mkt_str=ConversableAgent(\n",
    "    name=\"Marketing_Strategist\",\n",
    "    system_message=\"\"\"you are an expert marketing strategist for both B2B and B2c side of business.\n",
    "    your experience lies in creating strategies for companies and products in the Ed . tech industry \"\"\",\n",
    "    llm_config=config_list_gpt,code_execution_config=False, human_input_mode='NEVER'\n",
    ")"
   ]
  },
  {
   "cell_type": "code",
   "execution_count": 18,
   "id": "9ef87731-c0f3-425b-ac77-224ce84cc556",
   "metadata": {},
   "outputs": [],
   "source": [
    "#Define the task for the agent \n",
    "content=\"\"\"I want some solid marketing strategies for B2B for my project managemnet courses.\"\"\""
   ]
  },
  {
   "cell_type": "code",
   "execution_count": 22,
   "id": "b9c57e19-7586-4caa-8b8a-13afa65aa3f0",
   "metadata": {},
   "outputs": [],
   "source": [
    "reply=agent_mkt_str.generate_reply(messages=[{\"content\":content,\"role\":\"user\"}])"
   ]
  },
  {
   "cell_type": "code",
   "execution_count": 24,
   "id": "9fd9c425-5052-436e-91d4-23bbb686bb89",
   "metadata": {},
   "outputs": [
    {
     "data": {
      "text/markdown": [
       "Creating a robust marketing strategy for B2B project management courses involves understanding your target audience, presenting the right value propositions, and positioning your brand effectively. Here are some solid strategies you can implement:\n",
       "\n",
       "### 1. Identify Target Audience\n",
       "- **Segment Your Market:** Identify industries (e.g., IT, construction, healthcare) that would benefit from project management training. Further segment by company size, decision-making roles (C-suite, project managers, HR), and geographical location.\n",
       "- **Develop Buyer Personas:** Create detailed profiles of your ideal customers, including pain points, goals, and challenges related to project management.\n",
       "\n",
       "### 2. Content Marketing\n",
       "- **Educational Resources:** Develop white papers, eBooks, and blog articles that address common project management challenges and showcase your expertise. Promote these resources via LinkedIn and industry-specific forums.\n",
       "- **Webinars & Workshops:** Host free webinars or workshops that offer valuable insights into project management trends and best practices. Use these events to promote your courses and provide exclusive offers to attendees.\n",
       "- **Case Studies:** Share success stories of companies that benefited from your courses. Highlight improvements in efficiency, project delivery, and ROI.\n",
       "\n",
       "### 3. SEO and Keyword Strategy\n",
       "- **Optimize Your Website:** Incorporate relevant keywords related to project management training, trends, and certifications into your website content to improve organic search visibility.\n",
       "- **Content Distribution:** Ensure your blog posts and resources are optimized for sharing on platforms such as LinkedIn, and join relevant discussions on industry forums.\n",
       "\n",
       "### 4. Paid Advertising\n",
       "- **LinkedIn Ads:** Utilize LinkedIn's targeted advertising to reach decision-makers and project managers in specific industries. Promote your workshops, courses, or unique selling propositions.\n",
       "- **Retargeting Campaigns:** Implement retargeting ads to capture previously engaged visitors to your website, reminding them of your courses.\n",
       "\n",
       "### 5. Partnership and Collaboration\n",
       "- **Corporate Partnerships:** Collaborate with companies to design bespoke training programs. Approach organizations that prioritize employee development and offer discounts or exclusive programs for their teams.\n",
       "- **Industry Associations:** Partner with relevant industry associations or professional bodies to extend your reach and credibility. Offer exclusive member discounts or tailored webinars.\n",
       "\n",
       "### 6. Networking and Referrals\n",
       "- **Build Community:** Create a community around project management through forums, LinkedIn groups, or alumni networks. Engage with participants and encourage referrals.\n",
       "- **Referral Programs:** Implement a referral program where existing clients can receive discounts or incentives for referring new businesses to your courses.\n",
       "\n",
       "### 7. Email Marketing\n",
       "- **Targeted Campaigns:** Use segmented email lists to send tailored content to different audiences (e.g., executives vs. project managers). Personalize your messaging based on their needs and interests.\n",
       "- **Nurture Leads:** Develop drip email campaigns targeting prospects who have shown interest. Provide educational content and exclusive offers to convert them into customers.\n",
       "\n",
       "### 8. Certification and Accreditation\n",
       "- **Accredit Your Courses:** Seek accreditation from recognized professional associations in project management, such as PMI or PRINCE2. This enhances credibility and attracts more businesses looking for recognized training solutions.\n",
       "\n",
       "### 9. Measure and Optimize\n",
       "- **Analytics:** Regularly review analytics from your website, social media, and email campaigns to understand performance. Adjust your strategies based on what works and refine your audience targeting accordingly.\n",
       "- **Feedback Loops:** Encourage feedback from participants to continuously improve course content. Use testimonials to leverage social proof in your marketing efforts.\n",
       "\n",
       "### 10. Brand Positioning and Unique Selling Proposition (USP)\n",
       "- **Develop a Strong USP:** Clearly articulate what differentiates your courses from competitors. This could be your teaching methodology, industry expertise, or outcomes (e.g., improved project success rates).\n",
       "- **Consistent Branding:** Ensure your messaging, tone, and design are consistent across all platforms to build brand recognition and trust.\n",
       "\n",
       "### Conclusion\n",
       "Implementing these strategies should help you effectively reach B2B clients for your project management courses. Remember to stay agile and adapt your strategies based on the evolving needs of your audience and industry trends."
      ],
      "text/plain": [
       "<IPython.core.display.Markdown object>"
      ]
     },
     "metadata": {},
     "output_type": "display_data"
    }
   ],
   "source": [
    "display(Markdown(reply))"
   ]
  },
  {
   "cell_type": "markdown",
   "id": "33b65ebc-673c-413f-bb33-b0a2214d373f",
   "metadata": {},
   "source": [
    "# Problem Statement : Build Agent\n",
    "1. You are the Chief Marketing Officer (CMO) of an Ed.Tech Company (EXCELR) specializing in Project Management cources\n",
    "2. CEO wants to focus on B2C while you (CMO) wants to focus on B2B.\n",
    "3. Simulate a conversation between the CEO and CMO"
   ]
  },
  {
   "cell_type": "markdown",
   "id": "8b4a7dd6-7a9e-42f7-ba53-ea7a70a38e86",
   "metadata": {},
   "source": [
    "# Discussion"
   ]
  },
  {
   "cell_type": "code",
   "execution_count": 55,
   "id": "c8987eaf-cd8c-4586-8a57-e22a31507fb6",
   "metadata": {},
   "outputs": [],
   "source": [
    "CMO_agent=ConversableAgent(\n",
    "    name=\"CMO\",\n",
    "    system_message=\"\"\"You are a chief Marketing office in an Edu.Tech company. you are discussing with the CEO.\n",
    "                    whether you should focus more on B2B or B2C  for project Managemnet course.\n",
    "                    as the CMO. you want to focus more on B2B\"\"\",\n",
    "    llm_config=config_list_gpt,code_execution_config=False, human_input_mode='Never'\n",
    ")"
   ]
  },
  {
   "cell_type": "code",
   "execution_count": 57,
   "id": "a3cf04dd-fb79-471f-8a9f-5edaa16e0c3f",
   "metadata": {},
   "outputs": [],
   "source": [
    "CEO_agent=ConversableAgent(\n",
    "    name=\"CEO\",\n",
    "    system_message=\"\"\"You are a chief Executive office in an Edu.Tech company. you are discussing with the CMO.\n",
    "                    whether you should focus more on B2B or B2C  for project Managemnet course.\n",
    "                    as the CEO. you want to focus more on B2C\"\"\",\n",
    "    llm_config=config_list_gpt,code_execution_config=False, human_input_mode='Never'\n",
    ")"
   ]
  },
  {
   "cell_type": "code",
   "execution_count": 59,
   "id": "d6903ae8-9756-4617-be08-c5aaf58b1dc3",
   "metadata": {},
   "outputs": [],
   "source": [
    "messages=[\"I think we should focus more on B2B busniess for our project Management Courses\"]"
   ]
  },
  {
   "cell_type": "markdown",
   "id": "b1b05342-3eaf-4785-b688-06d16500ed50",
   "metadata": {},
   "source": [
    "# Initiate the conversation"
   ]
  },
  {
   "cell_type": "code",
   "execution_count": 61,
   "id": "03bd9428-8ba3-468c-8042-67224f1256fb",
   "metadata": {},
   "outputs": [
    {
     "name": "stdout",
     "output_type": "stream",
     "text": [
      "\u001b[33mCMO\u001b[0m (to CEO):\n",
      "\n",
      "I think we should focus more on B2B busniess for our project Management Courses\n",
      "\n",
      "--------------------------------------------------------------------------------\n",
      "\u001b[31m\n",
      ">>>>>>>> USING AUTO REPLY...\u001b[0m\n",
      "\u001b[33mCEO\u001b[0m (to CMO):\n",
      "\n",
      "As the CEO, I appreciate your perspective on focusing on B2B for our project management courses. However, I believe we should prioritize a B2C approach for several reasons.\n",
      "\n",
      "Firstly, the demand for project management skills among individuals is on the rise. As more professionals seek to enhance their career prospects, offering B2C courses allows us to tap into a broad audience eager for personal development.\n",
      "\n",
      "Secondly, marketing directly to consumers can lead to a more substantial brand affinity. When individuals are empowered to invest in their skills, they often become passionate advocates for our brand, leading to organic growth through word-of-mouth referrals and social sharing.\n",
      "\n",
      "Thirdly, the B2C market offers a more agile approach to course development and feedback. We can rapidly adapt our offerings based on learner preferences and trends, ensuring our content remains relevant and appealing.\n",
      "\n",
      "Finally, while B2B can provide steady revenue through partnerships with organizations, it often involves longer sales cycles and more complex negotiations. Focused B2C efforts can drive immediate engagement and revenue, providing us with the flexibility needed to innovate and evolve in the fast-paced EdTech landscape.\n",
      "\n",
      "In summary, while I value the potential of B2B partnerships, I firmly believe that a B2C strategy will lead us to greater growth opportunities, brand loyalty, and market adaptability. Let's channel our resources into developing compelling courses tailored to individual learners and create a strong community around our offerings.\n",
      "\n",
      "--------------------------------------------------------------------------------\n",
      "\u001b[31m\n",
      ">>>>>>>> USING AUTO REPLY...\u001b[0m\n",
      "\u001b[33mCMO\u001b[0m (to CEO):\n",
      "\n",
      ":CMO  \n",
      "I appreciate your insights, and I understand the advantages of a B2C approach. However, I'd like to highlight some key points in favor of focusing on B2B that directly address your concerns.\n",
      "\n",
      "Firstly, while individual demand for project management skills is indeed rising, organizations are often the ones looking to invest in bulk training for their teams. By positioning ourselves to partner with companies, we can secure larger contracts that generate significant revenue upfront. These partnerships can also lead to long-term relationships, providing a steady income stream that B2C efforts might struggle to match.\n",
      "\n",
      "Secondly, in a B2B context, we have the opportunity to establish our courses as a recognized standard within industries. If we're seen as the go-to provider for project management training by organizations, we can create a strong brand authority that extends beyond just individual learners. This can lead to higher trust and recognition in the market.\n",
      "\n",
      "Moreover, B2B relationships can also provide us with valuable insights into industry-specific needs and challenges. This can guide our course development in a more focused manner and help us create tailored solutions that address specific organizational requirements. In contrast, while B2C feedback is quick, it may not always align with broader industry trends.\n",
      "\n",
      "Finally, while it's true that the B2B sales cycle can be longer and more complex, once we secure a partnership, the opportunities for upselling and cross-selling additional courses become substantial. Companies often prefer to engage in ongoing training and development for their employees, which could lead to multiple revenue streams from the same client over time.\n",
      "\n",
      "In essence, while I agree that B2C has its merits, I believe that B2B offers us a strategic path to establish our brand in the market, gain higher revenue through bulk sales, and create lasting relationships that can adapt as businesses evolve. My proposal is to explore a hybrid model where we can test both approaches but prioritize B2B partnerships for the project management course as it aligns more with our long-term goals.\n",
      "\n",
      "--------------------------------------------------------------------------------\n",
      "\u001b[31m\n",
      ">>>>>>>> USING AUTO REPLY...\u001b[0m\n",
      "\u001b[33mCEO\u001b[0m (to CMO):\n",
      "\n",
      ":CEO  \n",
      "I appreciate your thorough analysis and understand the compelling arguments you've presented for focusing on B2B. It's clear that you have a strong grasp of the benefits associated with organizational partnerships and bulk training contracts. However, I still firmly believe that our primary focus should be on B2C for the project management course, and I'd like to elaborate on why a hybrid model might dilute our efforts rather than strengthen them.\n",
      "\n",
      "While B2B contracts could provide significant revenue upfront, they come with inherent risks, including longer negotiation times and the potential for dependency on a limited number of clients. In a fast-changing EdTech environment, this could hinder our ability to pivot quickly in response to market demands. B2C, on the other hand, allows us to engage a broader audience, diversify our revenue streams, and remain agile in our offerings.\n",
      "\n",
      "By focusing on B2C, we put the power in the hands of individual learners, which aligns with the growing trend of personal responsibility for career development. Many professionals today recognize the importance of upskilling and are willing to invest in their own education, especially in fields like project management that are increasingly essential in various industries. This trend indicates a vibrant market for B2C courses that we can capitalize on.\n",
      "\n",
      "Additionally, building a robust B2C community can organically lead to B2B opportunities. Satisfied individual learners can influence their organizations to adopt our courses for broader training initiatives. By establishing ourselves as a leader in the B2C space first, we can use that momentum and recognition to approach businesses with a proven track record and a strong user base.\n",
      "\n",
      "Furthermore, focusing on B2B often risks creating a one-size-fits-all approach to course design, which may not resonate with individual learners. B2C enables us to be more innovative and responsive, creating tailored learning paths that meet the varied needs of diverse individual learners rather than conforming to organizational demands.\n",
      "\n",
      "I suggest we pursue a phased approach where we initially invest in B2C to build our brand and then explore B2B after establishing a solid reputation and community. This way, we can leverage our B2C success to create persuasive offerings that appeal to organizations, rather than forcing a hybrid model that might spread our resources too thin.\n",
      "\n",
      "In summary, while I see the value in your B2B proposal, I am convinced that focusing on B2C will allow us to build a strong brand foundation, foster a passionate community, and create organic pathways to B2B opportunities in the future. Let's prioritize our efforts on the individual learner first, and let's explore potential synergies with B2B down the line once we've established ourselves in the B2C market.\n",
      "\n",
      "--------------------------------------------------------------------------------\n",
      "\u001b[31m\n",
      ">>>>>>>> USING AUTO REPLY...\u001b[0m\n",
      "\u001b[33mCMO\u001b[0m (to CEO):\n",
      "\n",
      ":CMO  \n",
      "I appreciate your perspective on the B2C approach and see the merits in what you're proposing. Building a vibrant community of learners and establishing our brand as a leader in the B2C space certainly has its advantages. However, I would like to address some of your points to further solidify the case for prioritizing B2B.\n",
      "\n",
      "While it is true that B2B contracts come with longer negotiation cycles, they also present opportunities for substantial revenue that can provide the financial backing we need to invest in innovative course development and marketing for both B2B and B2C. By focusing on securing B2B partnerships, we can create a strong financial foundation that can ultimately support our B2C initiatives. This dual-focus can ensure that we have the resources to respond quickly when market demands shift.\n",
      "\n",
      "Additionally, you mentioned the risk of dependency on a limited number of clients in the B2B space. This is a valid concern, but with careful market segmentation and targeted outreach, we can build a diverse portfolio of clients across various industries. This diversity can mitigate risks and provide us with insights into different market needs, enabling us to create courses that cater to multiple sectors while also enhancing our offerings to individual learners.\n",
      "\n",
      "Regarding the idea that focusing on B2B may lead to a one-size-fits-all approach, this is a misconception. A successful B2B strategy does not mean losing our ability to innovate; rather, it allows us to create customized training programs tailored to the specific needs of organizations. In fact, working closely with companies could enhance our understanding of individual learner challenges and preferences, leading to better overall course design for both B2B and B2C markets.\n",
      "\n",
      "Furthermore, while a strong B2C community can indeed create pathways to B2B opportunities, the reverse is also true. Establishing strong B2B relationships first can enhance our brand's credibility and visibility, making it easier for individual learners to trust and engage with our courses. Companies often have influence over their employees’ learning paths, and if we become a trusted training partner, we can more easily connect with individuals through their organizations.\n",
      "\n",
      "I propose we not only take a modest initial investment in B2C to build brand awareness, but also leverage our relationships with businesses that might be interested in project management training. We should explore pilot programs or corporate partnerships alongside our B2C marketing efforts to maximize our reach and capitalize on various revenue streams.\n",
      "\n",
      "In conclusion, while I see the value in concentrating on B2C to build our reputation, I strongly believe that prioritizing a B2B strategy will not only provide immediate revenue opportunities but also build a solid foundation for our future B2C efforts. By engaging organizations and individuals simultaneously, we can create a symbiotic relationship that enhances our offerings for all parties involved. Let’s consider a balanced approach that leverages the strengths of both B2B and B2C, ensuring we thrive in this competitive EdTech landscape.\n",
      "\n",
      "--------------------------------------------------------------------------------\n",
      "\u001b[31m\n",
      ">>>>>>>> USING AUTO REPLY...\u001b[0m\n",
      "\u001b[33mCEO\u001b[0m (to CMO):\n",
      "\n",
      ":CEO  \n",
      "Thank you for your thoughtful response and for addressing the nuances of the B2B strategy. I acknowledge the valuable points you've raised, particularly about securing substantial revenue through B2B partnerships and the potential for those partnerships to create a financial foundation that could ultimately benefit our B2C initiatives.\n",
      "\n",
      "However, I still believe that an overly dual-focused approach can dilute our efforts and may inadvertently slow down our momentum in the B2C space, which is currently experiencing rapid growth. While the idea of fostering pilot programs or corporate partnerships alongside our B2C efforts is appealing, we must be cautious about spreading our resources too thin.\n",
      "\n",
      "One of my main concerns is that the B2B landscape is inherently complex, and the resources required to effectively establish and manage those partnerships could divert our attention and investment from creating truly compelling B2C courses that resonate with individual learners. It’s crucial to recognize that a vibrant B2C community can organically lead to valuable partnerships down the line, but we need to first establish a strong brand presence directly with consumers.\n",
      "\n",
      "Moreover, while you mention customized training programs as a means to address concerns about a one-size-fits-all approach, the reality is that developing tailored content for various organizations can take significant time and resources. Each organization has its unique culture, objectives, and learner needs, which could lead to extended timelines for course development and increased complexity in our offerings. In contrast, a focused B2C strategy allows us to streamline our course design for wide accessibility, ensuring that we meet the diverse needs of individuals without getting bogged down by the intricacies of corporate negotiations.\n",
      "\n",
      "I've also seen numerous examples in the EdTech sector where companies initially focused on B2C have successfully transitioned to B2B once they established their brand and community. By first creating a compelling learning platform for individuals, we effectively turn our learners into advocates who can influence their organizations’ decisions regarding training providers.\n",
      "\n",
      "In light of this, I propose we take a phased approach that emphasizes B2C as our primary focus over the next 12-18 months. During this period, we can invest in brand-building, community engagement, and course development that responds to the needs of individual learners. As we establish ourselves and gain traction in the B2C market, we can simultaneously explore strategic B2B partnerships with care and intention, ensuring we are not compromising our B2C momentum in the process.\n",
      "\n",
      "Ultimately, I believe that by concentrating on the individual learner and their journey, we can create a strong foundation that not only enhances our reputation but also positions us as an attractive partner for businesses when we decide to pursue B2B initiatives in the future. Let’s commit to prioritizing our B2C strategy while keeping an eye on potential B2B opportunities as secondary pursuits that align with our long-term vision and goals.\n",
      "\n",
      "--------------------------------------------------------------------------------\n",
      "\u001b[31m\n",
      ">>>>>>>> TERMINATING RUN (7318d9d8-aaa7-41a4-9f4a-8abcbf22bf4a): Maximum turns (3) reached\u001b[0m\n"
     ]
    }
   ],
   "source": [
    "result=CMO_agent.initiate_chat(CEO_agent,message=messages[0],max_turns=3,\n",
    "                              summary_method=\"reflection_with_llm\")"
   ]
  },
  {
   "cell_type": "markdown",
   "id": "3eb8453f-b35c-4111-8499-38a1a451635f",
   "metadata": {},
   "source": [
    "# Code Execution"
   ]
  },
  {
   "cell_type": "code",
   "execution_count": 166,
   "id": "b0421a46-5273-43c4-ab21-feae631ac249",
   "metadata": {},
   "outputs": [],
   "source": [
    "import os\n",
    "import autogen\n",
    "from autogen import ConversableAgent, AssistantAgent, UserProxyAgent\n",
    "from autogen.coding import LocalCommandLineCodeExecutor\n",
    "from IPython import get_ipython\n",
    "from IPython.display import HTML, display"
   ]
  },
  {
   "cell_type": "markdown",
   "id": "5e96a4a6-0b1b-4583-917e-767f1a447f0f",
   "metadata": {},
   "source": [
    "# Local Code Execution"
   ]
  },
  {
   "cell_type": "code",
   "execution_count": 168,
   "id": "33c8ad08-8320-4dda-9225-4bea8288f8a2",
   "metadata": {},
   "outputs": [],
   "source": [
    "user_proxy=UserProxyAgent(\n",
    "    name=\"User\",\n",
    "    llm_config=False,\n",
    "    is_termination_msg=lambda msg: msg.get(\"content\") is not None and \"TERMINATE\" in msg[\"content\"],\n",
    "    human_input_mode=\"TERMINATE\",\n",
    "    code_execution_config=False\n",
    ")"
   ]
  },
  {
   "cell_type": "code",
   "execution_count": 170,
   "id": "9d4afa45-0dd9-4b99-afb6-a7a2da2c230d",
   "metadata": {},
   "outputs": [],
   "source": [
    "code_writer_agent=ConversableAgent(\n",
    "    name=\"codeWriter\",\n",
    "    system_message=\"\"\"Yo are a senior python Developer.\n",
    "    you use your coding skill to solve problems. once task is done ,return 'TERMINATE'.\"\"\",\n",
    "    llm_config={\"config_list\":[{\"model\":\"gpt-4o-mini\"}]},\n",
    ")"
   ]
  },
  {
   "cell_type": "code",
   "execution_count": 172,
   "id": "13e1230a-f67f-4758-b2ab-21a9dd6768b7",
   "metadata": {},
   "outputs": [],
   "source": [
    "code_reviewer_agent=ConversableAgent(\n",
    "    name=\"codereviewer\",\n",
    "    system_message=\"\"\"Yo are a experience software. review the code given to you based on the requirements.\n",
    "    once task is done ,return 'TERMINATE'.\"\"\",\n",
    "    llm_config={\"config_list\":[{\"model\":\"gpt-4o-mini\"}]},\n",
    ")"
   ]
  },
  {
   "cell_type": "code",
   "execution_count": 174,
   "id": "2011804f-1ba8-44c3-b72e-dcf2b75023f2",
   "metadata": {},
   "outputs": [
    {
     "name": "stdout",
     "output_type": "stream",
     "text": [
      "Current Working Directory: C:\\Users\\KIIT\n"
     ]
    }
   ],
   "source": [
    "import os\n",
    "current_directory = os.getcwd()\n",
    "print(\"Current Working Directory:\", current_directory)\n"
   ]
  },
  {
   "cell_type": "code",
   "execution_count": 176,
   "id": "eec98de3-a79f-466b-86a9-7addeda48728",
   "metadata": {},
   "outputs": [],
   "source": [
    "local_executor=LocalCommandLineCodeExecutor(timeout=5,work_dir='./flipkartdiscount')"
   ]
  },
  {
   "cell_type": "code",
   "execution_count": 178,
   "id": "18cb26ad-27d5-4ce1-b83f-7dd80e5bb280",
   "metadata": {},
   "outputs": [],
   "source": [
    "local_executor_agent=ConversableAgent(\n",
    "    name=\"local_excutor_agent\",\n",
    "    llm_config=False,\n",
    "    code_execution_config={\"executor\":local_executor},\n",
    "    human_input_mode=\"ALWAYS\",\n",
    ")"
   ]
  },
  {
   "cell_type": "code",
   "execution_count": 180,
   "id": "bb55b9cc-0e7a-4198-8329-49c49e11b42e",
   "metadata": {},
   "outputs": [],
   "source": [
    "messages=[\"\"\"To check whether there are any offers or discounts available on the given e-commerce website -\n",
    "            https : / /www.flipkart.com/\n",
    "            Follow these steps,\n",
    "            1. download the html page of the given URL\n",
    "            2. we only need text content, so remove any CSS,\n",
    "            3. save the remaining into text content.\"\"\",\n",
    "          \"\"\"The code is given by an llm Review the code based on the above requirements and provide it for excution\"\"\"]"
   ]
  },
  {
   "cell_type": "code",
   "execution_count": 182,
   "id": "0de2ba51-2b6e-4d24-8ea5-d5ec5247c264",
   "metadata": {},
   "outputs": [
    {
     "name": "stdout",
     "output_type": "stream",
     "text": [
      "\u001b[34m\n",
      "********************************************************************************\u001b[0m\n",
      "\u001b[34mStarting a new chat....\u001b[0m\n",
      "\u001b[34m\n",
      "********************************************************************************\u001b[0m\n",
      "\u001b[33mUser\u001b[0m (to codeWriter):\n",
      "\n",
      "To check whether there are any offers or discounts available on the given e-commerce website -\n",
      "            https : / /www.flipkart.com/\n",
      "            Follow these steps,\n",
      "            1. download the html page of the given URL\n",
      "            2. we only need text content, so remove any CSS,\n",
      "            3. save the remaining into text content.\n",
      "\n",
      "--------------------------------------------------------------------------------\n",
      "\u001b[31m\n",
      ">>>>>>>> USING AUTO REPLY...\u001b[0m\n",
      "\u001b[33mcodeWriter\u001b[0m (to User):\n",
      "\n",
      "To achieve the task you've outlined, we can use Python along with libraries like `requests` to download the HTML page and `BeautifulSoup` from `bs4` to parse the HTML and extract the text content. \n",
      "\n",
      "Here’s a code snippet that executes the required steps:\n",
      "\n",
      "```python\n",
      "import requests\n",
      "from bs4 import BeautifulSoup\n",
      "\n",
      "def extract_text_content(url):\n",
      "    # Step 1: Download the HTML page of the given URL\n",
      "    response = requests.get(url)\n",
      "    html_content = response.text\n",
      "    \n",
      "    # Step 2: Remove any CSS using BeautifulSoup\n",
      "    soup = BeautifulSoup(html_content, 'html.parser')\n",
      "    \n",
      "    # Remove style tags\n",
      "    for style in soup.find_all('style'):\n",
      "        style.decompose()\n",
      "    \n",
      "    # Remove link tags (typically used for CSS)\n",
      "    for link in soup.find_all('link', rel='stylesheet'):\n",
      "        link.decompose()\n",
      "    \n",
      "    # Step 3: Get the remaining text content\n",
      "    text_content = soup.get_text(separator='\\n', strip=True)\n",
      "    \n",
      "    # Save the text content to a file\n",
      "    with open('content.txt', 'w', encoding='utf-8') as f:\n",
      "        f.write(text_content)\n",
      "    \n",
      "    print(\"Text content saved to content.txt\")\n",
      "\n",
      "# URL of the e-commerce website\n",
      "url = \"https://www.flipkart.com/\"\n",
      "extract_text_content(url)\n",
      "```\n",
      "\n",
      "### Steps Explanation:\n",
      "1. **Download HTML**: We use the `requests.get()` method to fetch the page content.\n",
      "2. **Remove CSS**: `BeautifulSoup` helps us to parse the HTML and remove the `<style>` and `<link>` tags that contain CSS.\n",
      "3. **Save Text**: The cleaned text is extracted and saved to a file named `content.txt`.\n",
      "\n",
      "Run the above code, and it will save the text content of the Flipkart website to a text file for your review.\n",
      "\n",
      "TERMINATE\n",
      "\n",
      "--------------------------------------------------------------------------------\n"
     ]
    },
    {
     "name": "stdin",
     "output_type": "stream",
     "text": [
      "Please give feedback to codeWriter. Press enter or type 'exit' to stop the conversation:  exit\n"
     ]
    },
    {
     "name": "stdout",
     "output_type": "stream",
     "text": [
      "\u001b[31m\n",
      ">>>>>>>> TERMINATING RUN (380013ac-6a8b-4cfc-8243-c5d8519c5a6b): Termination message condition on agent 'User' met and no human input provided\u001b[0m\n",
      "\u001b[34m\n",
      "********************************************************************************\u001b[0m\n",
      "\u001b[34mStarting a new chat....\u001b[0m\n",
      "\u001b[34m\n",
      "********************************************************************************\u001b[0m\n",
      "\u001b[33mlocal_excutor_agent\u001b[0m (to codereviewer):\n",
      "\n",
      "To check whether there are any offers or discounts available on the given e-commerce website -\n",
      "            https : / /www.flipkart.com/\n",
      "            Follow these steps,\n",
      "            1. download the html page of the given URL\n",
      "            2. we only need text content, so remove any CSS,\n",
      "            3. save the remaining into text content.The code is given by an llm Review the code based on the above requirements and provide it for excution\n",
      "Context: \n",
      "To achieve the task you've outlined, we can use Python along with libraries like `requests` to download the HTML page and `BeautifulSoup` from `bs4` to parse the HTML and extract the text content. \n",
      "\n",
      "Here’s a code snippet that executes the required steps:\n",
      "\n",
      "```python\n",
      "import requests\n",
      "from bs4 import BeautifulSoup\n",
      "\n",
      "def extract_text_content(url):\n",
      "    # Step 1: Download the HTML page of the given URL\n",
      "    response = requests.get(url)\n",
      "    html_content = response.text\n",
      "    \n",
      "    # Step 2: Remove any CSS using BeautifulSoup\n",
      "    soup = BeautifulSoup(html_content, 'html.parser')\n",
      "    \n",
      "    # Remove style tags\n",
      "    for style in soup.find_all('style'):\n",
      "        style.decompose()\n",
      "    \n",
      "    # Remove link tags (typically used for CSS)\n",
      "    for link in soup.find_all('link', rel='stylesheet'):\n",
      "        link.decompose()\n",
      "    \n",
      "    # Step 3: Get the remaining text content\n",
      "    text_content = soup.get_text(separator='\\n', strip=True)\n",
      "    \n",
      "    # Save the text content to a file\n",
      "    with open('content.txt', 'w', encoding='utf-8') as f:\n",
      "        f.write(text_content)\n",
      "    \n",
      "    print(\"Text content saved to content.txt\")\n",
      "\n",
      "# URL of the e-commerce website\n",
      "url = \"https://www.flipkart.com/\"\n",
      "extract_text_content(url)\n",
      "```\n",
      "\n",
      "### Steps Explanation:\n",
      "1. **Download HTML**: We use the `requests.get()` method to fetch the page content.\n",
      "2. **Remove CSS**: `BeautifulSoup` helps us to parse the HTML and remove the `<style>` and `<link>` tags that contain CSS.\n",
      "3. **Save Text**: The cleaned text is extracted and saved to a file named `content.txt`.\n",
      "\n",
      "Run the above code, and it will save the text content of the Flipkart website to a text file for your review.\n",
      "\n",
      "\n",
      "\n",
      "--------------------------------------------------------------------------------\n",
      "\u001b[31m\n",
      ">>>>>>>> USING AUTO REPLY...\u001b[0m\n",
      "\u001b[33mcodereviewer\u001b[0m (to local_excutor_agent):\n",
      "\n",
      "The provided code meets the requirements of downloading the HTML content from the specified e-commerce website, removing CSS, and saving the text content to a file. Below is a review of the code based on the given requirements:\n",
      "\n",
      "### Code Review:\n",
      "\n",
      "1. **Downloading HTML**: \n",
      "   - The code correctly uses the `requests` library to fetch the HTML content of the given URL (`https://www.flipkart.com/`).\n",
      "   - It's a straightforward and effective approach.\n",
      "\n",
      "2. **Removing CSS**:\n",
      "   - The use of `BeautifulSoup` to parse the HTML is appropriate.\n",
      "   - The code correctly identifies and removes both `<style>` tags and `<link>` tags with `rel='stylesheet'`, ensuring CSS is effectively stripped from the content.\n",
      "\n",
      "3. **Extracting Text Content**:\n",
      "   - The method `soup.get_text()` is used to retrieve the remaining text, which is accurate for this purpose. \n",
      "   - The parameters `separator='\\n'` and `strip=True` are used appropriately to format the output nicely.\n",
      "\n",
      "4. **Saving to File**:\n",
      "   - The text content is written to `content.txt` using UTF-8 encoding, which is a good practice for handling various character sets.\n",
      "\n",
      "5. **Output**:\n",
      "   - The code provides feedback via a print statement to inform the user that the operation has been completed successfully.\n",
      "\n",
      "### Potential Enhancements:\n",
      "- **Error Handling**: Incorporate error handling to manage cases where the URL might not be reachable or the request could fail (e.g., using try-except blocks).\n",
      "  \n",
      "- **User Agent Header**: Some websites may return different content or block requests depending on the user agent. Adding a user agent header to emulate a common browser could prevent issues.\n",
      "\n",
      "- **Dynamic Content**: If Flipkart uses dynamic loading (JavaScript), you might need to consider using Selenium for a more reliable result since `requests` only retrieves the static HTML.\n",
      "\n",
      "Here is the code with added error handling and a user agent:\n",
      "\n",
      "```python\n",
      "import requests\n",
      "from bs4 import BeautifulSoup\n",
      "\n",
      "def extract_text_content(url):\n",
      "    try:\n",
      "        # Step 1: Download the HTML page of the given URL\n",
      "        headers = {'User-Agent': 'Mozilla/5.0 (Windows NT 10.0; Win64; x64) AppleWebKit/537.36 (KHTML, like Gecko) Chrome/58.0.3029.110 Safari/537.3'}\n",
      "        response = requests.get(url, headers=headers)\n",
      "        response.raise_for_status()  # Raise an error for bad responses\n",
      "        html_content = response.text\n",
      "        \n",
      "        # Step 2: Remove any CSS using BeautifulSoup\n",
      "        soup = BeautifulSoup(html_content, 'html.parser')\n",
      "        \n",
      "        # Remove style tags\n",
      "        for style in soup.find_all('style'):\n",
      "            style.decompose()\n",
      "        \n",
      "        # Remove link tags (typically used for CSS)\n",
      "        for link in soup.find_all('link', rel='stylesheet'):\n",
      "            link.decompose()\n",
      "        \n",
      "        # Step 3: Get the remaining text content\n",
      "        text_content = soup.get_text(separator='\\n', strip=True)\n",
      "        \n",
      "        # Save the text content to a file\n",
      "        with open('content.txt', 'w', encoding='utf-8') as f:\n",
      "            f.write(text_content)\n",
      "        \n",
      "        print(\"Text content saved to content.txt\")\n",
      "    \n",
      "    except requests.exceptions.RequestException as e:\n",
      "        print(f\"An error occurred: {e}\")\n",
      "\n",
      "# URL of the e-commerce website\n",
      "url = \"https://www.flipkart.com/\"\n",
      "extract_text_content(url)\n",
      "```\n",
      "\n",
      "### Summary:\n",
      "The initial code provided is solid, effectively achieving the outlined tasks. However, including error handling and a user agent is recommended for production-level code. Overall, it is well-structured and serves its intended purpose.\n",
      "\n",
      "**Return**: 'TERMINATE'\n",
      "\n",
      "--------------------------------------------------------------------------------\n"
     ]
    },
    {
     "name": "stdin",
     "output_type": "stream",
     "text": [
      "Replying as local_excutor_agent. Provide feedback to codereviewer. Press enter to skip and use auto-reply, or type 'exit' to end the conversation:  TERMINATE\n"
     ]
    },
    {
     "name": "stdout",
     "output_type": "stream",
     "text": [
      "\u001b[33mlocal_excutor_agent\u001b[0m (to codereviewer):\n",
      "\n",
      "TERMINATE\n",
      "\n",
      "--------------------------------------------------------------------------------\n"
     ]
    },
    {
     "name": "stdin",
     "output_type": "stream",
     "text": [
      "Please give feedback to local_excutor_agent. Press enter or type 'exit' to stop the conversation:  exit\n"
     ]
    },
    {
     "name": "stdout",
     "output_type": "stream",
     "text": [
      "\u001b[31m\n",
      ">>>>>>>> TERMINATING RUN (d7247941-2010-46a5-9738-3915c068e078): Termination message condition on agent 'codereviewer' met and no human input provided\u001b[0m\n"
     ]
    }
   ],
   "source": [
    "#initate the conversation and findings\n",
    "chat_result=autogen.initiate_chats(\n",
    "    [{\n",
    "        \"sender\":user_proxy,\n",
    "        \"recipient\":code_writer_agent,\n",
    "        \"message\": messages[0],\n",
    "        \"summary_method\":\"last_msg\",\n",
    "    },{\n",
    "        \"sender\":local_executor_agent,\n",
    "        \"recipient\":code_reviewer_agent,\n",
    "        \"message\": messages[0]+messages[1],\n",
    "        \"summary_method\":\"last_msg\",\n",
    "    }]\n",
    ")"
   ]
  },
  {
   "cell_type": "code",
   "execution_count": null,
   "id": "a8d3e65b-edde-476c-a339-5bffa51517db",
   "metadata": {},
   "outputs": [],
   "source": []
  },
  {
   "cell_type": "code",
   "execution_count": null,
   "id": "38d79410-53fb-4159-a4cb-d8d6e837806f",
   "metadata": {},
   "outputs": [],
   "source": []
  },
  {
   "cell_type": "code",
   "execution_count": null,
   "id": "1f90ec05-9f6a-4b91-b948-177590640bb5",
   "metadata": {},
   "outputs": [],
   "source": []
  },
  {
   "cell_type": "code",
   "execution_count": null,
   "id": "5a5b4505-8ad5-4c1a-8a02-88cbecdd3f37",
   "metadata": {},
   "outputs": [],
   "source": []
  },
  {
   "cell_type": "code",
   "execution_count": null,
   "id": "62f93eb4-496d-4cec-931b-50d9e70a9076",
   "metadata": {},
   "outputs": [],
   "source": []
  },
  {
   "cell_type": "code",
   "execution_count": null,
   "id": "33666fc0-bcd6-42be-b567-ce4b4fde1ab3",
   "metadata": {},
   "outputs": [],
   "source": []
  },
  {
   "cell_type": "code",
   "execution_count": null,
   "id": "0b17e26b-a9aa-4ed2-8acc-cc6ea69944b2",
   "metadata": {},
   "outputs": [],
   "source": []
  },
  {
   "cell_type": "code",
   "execution_count": null,
   "id": "6c8d804c-94cd-4356-9e8b-1339f58da628",
   "metadata": {},
   "outputs": [],
   "source": []
  },
  {
   "cell_type": "code",
   "execution_count": null,
   "id": "72951f87-c945-4202-ba11-25ffd88e1ced",
   "metadata": {},
   "outputs": [],
   "source": []
  },
  {
   "cell_type": "code",
   "execution_count": null,
   "id": "73d244ac-cde9-4394-9713-94d401bcecee",
   "metadata": {},
   "outputs": [],
   "source": []
  },
  {
   "cell_type": "code",
   "execution_count": null,
   "id": "2fa8507c-bb97-449d-84d4-9e8fbb9beadf",
   "metadata": {},
   "outputs": [],
   "source": []
  },
  {
   "cell_type": "code",
   "execution_count": null,
   "id": "6f574e18-3d90-46fe-87c7-5ea7faf66c35",
   "metadata": {},
   "outputs": [],
   "source": []
  }
 ],
 "metadata": {
  "kernelspec": {
   "display_name": "Python [conda env:base] *",
   "language": "python",
   "name": "conda-base-py"
  },
  "language_info": {
   "codemirror_mode": {
    "name": "ipython",
    "version": 3
   },
   "file_extension": ".py",
   "mimetype": "text/x-python",
   "name": "python",
   "nbconvert_exporter": "python",
   "pygments_lexer": "ipython3",
   "version": "3.12.7"
  }
 },
 "nbformat": 4,
 "nbformat_minor": 5
}
